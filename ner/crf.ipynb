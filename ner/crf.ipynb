{
 "cells": [
  {
   "cell_type": "markdown",
   "metadata": {},
   "source": [
    "### NER with Conditional Random Fields\n",
    "\n",
    "Tutorial from: https://sklearn-crfsuite.readthedocs.io/en/latest/tutorial.html#let-s-use-conll-2002-data-to-build-a-ner-system"
   ]
  },
  {
   "cell_type": "code",
   "execution_count": 2,
   "metadata": {},
   "outputs": [],
   "source": [
    "import matplotlib.pyplot as plt\n",
    "plt.style.use('ggplot')"
   ]
  },
  {
   "cell_type": "code",
   "execution_count": 7,
   "metadata": {},
   "outputs": [],
   "source": [
    "from itertools import chain\n",
    "\n",
    "import sklearn\n",
    "import scipy.stats\n",
    "from sklearn.metrics import make_scorer\n",
    "from sklearn.model_selection import cross_val_score, RandomizedSearchCV\n",
    "import sklearn_crfsuite\n",
    "from sklearn_crfsuite import scorers\n",
    "from sklearn_crfsuite import metrics"
   ]
  },
  {
   "cell_type": "code",
   "execution_count": 51,
   "metadata": {},
   "outputs": [],
   "source": [
    "def word2features(sent, i):\n",
    "    word = sent[i][1]\n",
    "    postag = sent[i][3]\n",
    "\n",
    "    # Create a dictionary with the features of the word\n",
    "    # This can be seen as the embedding of the word with all its particular dimensions\n",
    "    features = {\n",
    "        'bias': 1.0,\n",
    "        'word.lower()': word.lower(),\n",
    "        'word[-3:]': word[-3:],\n",
    "        'word[-2:]': word[-2:],\n",
    "        'word.isupper()': word.isupper(),\n",
    "        'word.istitle()': word.istitle(),\n",
    "        'word.isdigit()': word.isdigit(),\n",
    "        'postag': postag,\n",
    "        'postag[:2]': postag[:2],\n",
    "    }\n",
    "\n",
    "\n",
    "    if i > 0:\n",
    "        word1 = sent[i-1][0]\n",
    "        postag1 = sent[i-1][1]\n",
    "        features.update({\n",
    "            '-1:word.lower()': word1.lower(),\n",
    "            '-1:word.istitle()': word1.istitle(),\n",
    "            '-1:word.isupper()': word1.isupper(),\n",
    "            '-1:postag': postag1,\n",
    "            '-1:postag[:2]': postag1[:2],\n",
    "        })\n",
    "    else:\n",
    "        features['BOS'] = True\n",
    "\n",
    "    if i < len(sent)-1:\n",
    "        word1 = sent[i+1][0]\n",
    "        postag1 = sent[i+1][1]\n",
    "        features.update({\n",
    "            '+1:word.lower()': word1.lower(),\n",
    "            '+1:word.istitle()': word1.istitle(),\n",
    "            '+1:word.isupper()': word1.isupper(),\n",
    "            '+1:postag': postag1,\n",
    "            '+1:postag[:2]': postag1[:2],\n",
    "        })\n",
    "    else:\n",
    "        features['EOS'] = True\n",
    "\n",
    "    return features\n",
    "\n",
    "\n",
    "def sent2features(sent):\n",
    "    return [word2features(sent, i) for i in range(len(sent))]\n",
    "\n",
    "def sent2labels(sent):\n",
    "    return [tag for sentence, word, tag, pos in sent]\n",
    "\n",
    "def sent2tokens(sent):\n",
    "    return [word for sentence, word, tag, pos in sent]"
   ]
  },
  {
   "cell_type": "code",
   "execution_count": 52,
   "metadata": {},
   "outputs": [],
   "source": [
    "def add_pos_tags(df: pd.DataFrame) -> pd.DataFrame:\n",
    "    df['pos'] = df['word'].apply(lambda x: nltk.pos_tag([x])[0][1])\n",
    "    return df"
   ]
  },
  {
   "cell_type": "markdown",
   "metadata": {},
   "source": [
    "### Data"
   ]
  },
  {
   "cell_type": "code",
   "execution_count": 53,
   "metadata": {},
   "outputs": [
    {
     "data": {
      "text/html": [
       "<div>\n",
       "<style scoped>\n",
       "    .dataframe tbody tr th:only-of-type {\n",
       "        vertical-align: middle;\n",
       "    }\n",
       "\n",
       "    .dataframe tbody tr th {\n",
       "        vertical-align: top;\n",
       "    }\n",
       "\n",
       "    .dataframe thead th {\n",
       "        text-align: right;\n",
       "    }\n",
       "</style>\n",
       "<table border=\"1\" class=\"dataframe\">\n",
       "  <thead>\n",
       "    <tr style=\"text-align: right;\">\n",
       "      <th></th>\n",
       "      <th>sentence</th>\n",
       "      <th>word</th>\n",
       "      <th>tag</th>\n",
       "      <th>pos</th>\n",
       "    </tr>\n",
       "  </thead>\n",
       "  <tbody>\n",
       "    <tr>\n",
       "      <th>0</th>\n",
       "      <td>Sentence: 0</td>\n",
       "      <td>steve</td>\n",
       "      <td>B-Actor</td>\n",
       "      <td>NN</td>\n",
       "    </tr>\n",
       "    <tr>\n",
       "      <th>1</th>\n",
       "      <td>Sentence: 0</td>\n",
       "      <td>mcqueen</td>\n",
       "      <td>I-Actor</td>\n",
       "      <td>NN</td>\n",
       "    </tr>\n",
       "    <tr>\n",
       "      <th>2</th>\n",
       "      <td>Sentence: 0</td>\n",
       "      <td>provided</td>\n",
       "      <td>O</td>\n",
       "      <td>VBN</td>\n",
       "    </tr>\n",
       "    <tr>\n",
       "      <th>3</th>\n",
       "      <td>Sentence: 0</td>\n",
       "      <td>a</td>\n",
       "      <td>O</td>\n",
       "      <td>DT</td>\n",
       "    </tr>\n",
       "    <tr>\n",
       "      <th>4</th>\n",
       "      <td>Sentence: 0</td>\n",
       "      <td>thrilling</td>\n",
       "      <td>B-Plot</td>\n",
       "      <td>VBG</td>\n",
       "    </tr>\n",
       "  </tbody>\n",
       "</table>\n",
       "</div>"
      ],
      "text/plain": [
       "      sentence       word      tag  pos\n",
       "0  Sentence: 0      steve  B-Actor   NN\n",
       "1  Sentence: 0    mcqueen  I-Actor   NN\n",
       "2  Sentence: 0   provided        O  VBN\n",
       "3  Sentence: 0          a        O   DT\n",
       "4  Sentence: 0  thrilling   B-Plot  VBG"
      ]
     },
     "execution_count": 53,
     "metadata": {},
     "output_type": "execute_result"
    }
   ],
   "source": [
    "import pandas as pd\n",
    "import numpy as np\n",
    "\n",
    "df = pd.read_csv('../data/trivia10k13_pos.csv', encoding = \"ISO-8859-1\")\n",
    "df = df.fillna(method='ffill')\n",
    "\n",
    "# Rename columns to sentence, word, tag, pos\n",
    "df.columns = ['sentence', 'word', 'tag', 'pos']\n",
    "\n",
    "df.head()"
   ]
  },
  {
   "cell_type": "code",
   "execution_count": 54,
   "metadata": {},
   "outputs": [
    {
     "data": {
      "text/plain": [
       "[{'bias': 1.0,\n",
       "  'word.lower()': 'steve',\n",
       "  'word[-3:]': 'eve',\n",
       "  'word[-2:]': 've',\n",
       "  'word.isupper()': False,\n",
       "  'word.istitle()': False,\n",
       "  'word.isdigit()': False,\n",
       "  'postag': 'NN',\n",
       "  'postag[:2]': 'NN',\n",
       "  'BOS': True,\n",
       "  '+1:word.lower()': 'sentence: 0',\n",
       "  '+1:word.istitle()': True,\n",
       "  '+1:word.isupper()': False,\n",
       "  '+1:postag': 'mcqueen',\n",
       "  '+1:postag[:2]': 'mc'},\n",
       " {'bias': 1.0,\n",
       "  'word.lower()': 'mcqueen',\n",
       "  'word[-3:]': 'een',\n",
       "  'word[-2:]': 'en',\n",
       "  'word.isupper()': False,\n",
       "  'word.istitle()': False,\n",
       "  'word.isdigit()': False,\n",
       "  'postag': 'NN',\n",
       "  'postag[:2]': 'NN',\n",
       "  '-1:word.lower()': 'sentence: 0',\n",
       "  '-1:word.istitle()': True,\n",
       "  '-1:word.isupper()': False,\n",
       "  '-1:postag': 'steve',\n",
       "  '-1:postag[:2]': 'st',\n",
       "  '+1:word.lower()': 'sentence: 0',\n",
       "  '+1:word.istitle()': True,\n",
       "  '+1:word.isupper()': False,\n",
       "  '+1:postag': 'provided',\n",
       "  '+1:postag[:2]': 'pr'},\n",
       " {'bias': 1.0,\n",
       "  'word.lower()': 'provided',\n",
       "  'word[-3:]': 'ded',\n",
       "  'word[-2:]': 'ed',\n",
       "  'word.isupper()': False,\n",
       "  'word.istitle()': False,\n",
       "  'word.isdigit()': False,\n",
       "  'postag': 'VBN',\n",
       "  'postag[:2]': 'VB',\n",
       "  '-1:word.lower()': 'sentence: 0',\n",
       "  '-1:word.istitle()': True,\n",
       "  '-1:word.isupper()': False,\n",
       "  '-1:postag': 'mcqueen',\n",
       "  '-1:postag[:2]': 'mc',\n",
       "  '+1:word.lower()': 'sentence: 0',\n",
       "  '+1:word.istitle()': True,\n",
       "  '+1:word.isupper()': False,\n",
       "  '+1:postag': 'a',\n",
       "  '+1:postag[:2]': 'a'},\n",
       " {'bias': 1.0,\n",
       "  'word.lower()': 'a',\n",
       "  'word[-3:]': 'a',\n",
       "  'word[-2:]': 'a',\n",
       "  'word.isupper()': False,\n",
       "  'word.istitle()': False,\n",
       "  'word.isdigit()': False,\n",
       "  'postag': 'DT',\n",
       "  'postag[:2]': 'DT',\n",
       "  '-1:word.lower()': 'sentence: 0',\n",
       "  '-1:word.istitle()': True,\n",
       "  '-1:word.isupper()': False,\n",
       "  '-1:postag': 'provided',\n",
       "  '-1:postag[:2]': 'pr',\n",
       "  '+1:word.lower()': 'sentence: 0',\n",
       "  '+1:word.istitle()': True,\n",
       "  '+1:word.isupper()': False,\n",
       "  '+1:postag': 'thrilling',\n",
       "  '+1:postag[:2]': 'th'},\n",
       " {'bias': 1.0,\n",
       "  'word.lower()': 'thrilling',\n",
       "  'word[-3:]': 'ing',\n",
       "  'word[-2:]': 'ng',\n",
       "  'word.isupper()': False,\n",
       "  'word.istitle()': False,\n",
       "  'word.isdigit()': False,\n",
       "  'postag': 'VBG',\n",
       "  'postag[:2]': 'VB',\n",
       "  '-1:word.lower()': 'sentence: 0',\n",
       "  '-1:word.istitle()': True,\n",
       "  '-1:word.isupper()': False,\n",
       "  '-1:postag': 'a',\n",
       "  '-1:postag[:2]': 'a',\n",
       "  '+1:word.lower()': 'sentence: 0',\n",
       "  '+1:word.istitle()': True,\n",
       "  '+1:word.isupper()': False,\n",
       "  '+1:postag': 'motorcycle',\n",
       "  '+1:postag[:2]': 'mo'},\n",
       " {'bias': 1.0,\n",
       "  'word.lower()': 'motorcycle',\n",
       "  'word[-3:]': 'cle',\n",
       "  'word[-2:]': 'le',\n",
       "  'word.isupper()': False,\n",
       "  'word.istitle()': False,\n",
       "  'word.isdigit()': False,\n",
       "  'postag': 'NN',\n",
       "  'postag[:2]': 'NN',\n",
       "  '-1:word.lower()': 'sentence: 0',\n",
       "  '-1:word.istitle()': True,\n",
       "  '-1:word.isupper()': False,\n",
       "  '-1:postag': 'thrilling',\n",
       "  '-1:postag[:2]': 'th',\n",
       "  '+1:word.lower()': 'sentence: 0',\n",
       "  '+1:word.istitle()': True,\n",
       "  '+1:word.isupper()': False,\n",
       "  '+1:postag': 'chase',\n",
       "  '+1:postag[:2]': 'ch'},\n",
       " {'bias': 1.0,\n",
       "  'word.lower()': 'chase',\n",
       "  'word[-3:]': 'ase',\n",
       "  'word[-2:]': 'se',\n",
       "  'word.isupper()': False,\n",
       "  'word.istitle()': False,\n",
       "  'word.isdigit()': False,\n",
       "  'postag': 'NN',\n",
       "  'postag[:2]': 'NN',\n",
       "  '-1:word.lower()': 'sentence: 0',\n",
       "  '-1:word.istitle()': True,\n",
       "  '-1:word.isupper()': False,\n",
       "  '-1:postag': 'motorcycle',\n",
       "  '-1:postag[:2]': 'mo',\n",
       "  '+1:word.lower()': 'sentence: 0',\n",
       "  '+1:word.istitle()': True,\n",
       "  '+1:word.isupper()': False,\n",
       "  '+1:postag': 'in',\n",
       "  '+1:postag[:2]': 'in'},\n",
       " {'bias': 1.0,\n",
       "  'word.lower()': 'in',\n",
       "  'word[-3:]': 'in',\n",
       "  'word[-2:]': 'in',\n",
       "  'word.isupper()': False,\n",
       "  'word.istitle()': False,\n",
       "  'word.isdigit()': False,\n",
       "  'postag': 'IN',\n",
       "  'postag[:2]': 'IN',\n",
       "  '-1:word.lower()': 'sentence: 0',\n",
       "  '-1:word.istitle()': True,\n",
       "  '-1:word.isupper()': False,\n",
       "  '-1:postag': 'chase',\n",
       "  '-1:postag[:2]': 'ch',\n",
       "  '+1:word.lower()': 'sentence: 0',\n",
       "  '+1:word.istitle()': True,\n",
       "  '+1:word.isupper()': False,\n",
       "  '+1:postag': 'this',\n",
       "  '+1:postag[:2]': 'th'},\n",
       " {'bias': 1.0,\n",
       "  'word.lower()': 'this',\n",
       "  'word[-3:]': 'his',\n",
       "  'word[-2:]': 'is',\n",
       "  'word.isupper()': False,\n",
       "  'word.istitle()': False,\n",
       "  'word.isdigit()': False,\n",
       "  'postag': 'DT',\n",
       "  'postag[:2]': 'DT',\n",
       "  '-1:word.lower()': 'sentence: 0',\n",
       "  '-1:word.istitle()': True,\n",
       "  '-1:word.isupper()': False,\n",
       "  '-1:postag': 'in',\n",
       "  '-1:postag[:2]': 'in',\n",
       "  '+1:word.lower()': 'sentence: 0',\n",
       "  '+1:word.istitle()': True,\n",
       "  '+1:word.isupper()': False,\n",
       "  '+1:postag': 'greatest',\n",
       "  '+1:postag[:2]': 'gr'},\n",
       " {'bias': 1.0,\n",
       "  'word.lower()': 'greatest',\n",
       "  'word[-3:]': 'est',\n",
       "  'word[-2:]': 'st',\n",
       "  'word.isupper()': False,\n",
       "  'word.istitle()': False,\n",
       "  'word.isdigit()': False,\n",
       "  'postag': 'JJS',\n",
       "  'postag[:2]': 'JJ',\n",
       "  '-1:word.lower()': 'sentence: 0',\n",
       "  '-1:word.istitle()': True,\n",
       "  '-1:word.isupper()': False,\n",
       "  '-1:postag': 'this',\n",
       "  '-1:postag[:2]': 'th',\n",
       "  'EOS': True}]"
      ]
     },
     "execution_count": 54,
     "metadata": {},
     "output_type": "execute_result"
    }
   ],
   "source": [
    "# Test sentence2features\n",
    "sent2features(df.iloc[0:10].values)"
   ]
  },
  {
   "cell_type": "code",
   "execution_count": 56,
   "metadata": {},
   "outputs": [],
   "source": [
    "# Group by sentence, export values and apply sent2features\n",
    "X = [sent2features(s) for s in df.groupby('sentence').apply(lambda x: x.values).values]\n",
    "Y = [sent2labels(s) for s in df.groupby('sentence').apply(lambda x: x.values).values]"
   ]
  },
  {
   "cell_type": "code",
   "execution_count": 57,
   "metadata": {},
   "outputs": [],
   "source": [
    "split_proportion = 0.8\n",
    "split_index = int(len(X) * split_proportion)\n",
    "\n",
    "X_train = X[:split_index]\n",
    "X_test = X[split_index:]\n",
    "\n",
    "Y_train = Y[:split_index]\n",
    "Y_test = Y[split_index:]\n"
   ]
  },
  {
   "cell_type": "code",
   "execution_count": 64,
   "metadata": {},
   "outputs": [
    {
     "data": {
      "text/plain": [
       "['algorithm',\n",
       " 'all_possible_states',\n",
       " 'all_possible_transitions',\n",
       " 'averaging',\n",
       " 'c',\n",
       " 'c1',\n",
       " 'c2',\n",
       " 'calibration_candidates',\n",
       " 'calibration_eta',\n",
       " 'calibration_max_trials',\n",
       " 'calibration_rate',\n",
       " 'calibration_samples',\n",
       " 'delta',\n",
       " 'epsilon',\n",
       " 'error_sensitive',\n",
       " 'gamma',\n",
       " 'keep_tempfiles',\n",
       " 'linesearch',\n",
       " 'max_iterations',\n",
       " 'max_linesearch',\n",
       " 'min_freq',\n",
       " 'model_filename',\n",
       " 'num_memories',\n",
       " 'pa_type',\n",
       " 'period',\n",
       " 'trainer_cls',\n",
       " 'variance',\n",
       " 'verbose']"
      ]
     },
     "execution_count": 64,
     "metadata": {},
     "output_type": "execute_result"
    }
   ],
   "source": [
    "sklearn_crfsuite.CRF._get_param_names()"
   ]
  },
  {
   "cell_type": "code",
   "execution_count": 65,
   "metadata": {},
   "outputs": [
    {
     "name": "stdout",
     "output_type": "stream",
     "text": [
      "CPU times: user 32.3 s, sys: 0 ns, total: 32.3 s\n",
      "Wall time: 32.3 s\n"
     ]
    }
   ],
   "source": [
    "%%time\n",
    "crf = sklearn_crfsuite.CRF(\n",
    "    algorithm='lbfgs',\n",
    "    c1=0.1,\n",
    "    c2=0.1,\n",
    "    max_iterations=100,\n",
    "    all_possible_transitions=True\n",
    ")\n",
    "\n",
    "try:\n",
    "    crf.fit(X_train, Y_train)\n",
    "except AttributeError:\n",
    "    pass"
   ]
  },
  {
   "cell_type": "markdown",
   "metadata": {},
   "source": [
    "### Evaluation and production ready pipeline"
   ]
  },
  {
   "cell_type": "code",
   "execution_count": 66,
   "metadata": {},
   "outputs": [
    {
     "data": {
      "text/plain": [
       "['B-Actor',\n",
       " 'I-Actor',\n",
       " 'B-Plot',\n",
       " 'I-Plot',\n",
       " 'B-Opinion',\n",
       " 'I-Opinion',\n",
       " 'B-Award',\n",
       " 'I-Award',\n",
       " 'B-Year',\n",
       " 'B-Director',\n",
       " 'B-Genre',\n",
       " 'I-Genre',\n",
       " 'B-Origin',\n",
       " 'I-Origin',\n",
       " 'I-Director',\n",
       " 'B-Soundtrack',\n",
       " 'I-Soundtrack',\n",
       " 'B-Character_Name',\n",
       " 'I-Character_Name',\n",
       " 'B-Quote',\n",
       " 'I-Quote',\n",
       " 'B-Relationship',\n",
       " 'I-Relationship',\n",
       " 'I-Year']"
      ]
     },
     "execution_count": 66,
     "metadata": {},
     "output_type": "execute_result"
    }
   ],
   "source": [
    "labels = list(crf.classes_)\n",
    "labels.remove('O')\n",
    "labels"
   ]
  },
  {
   "cell_type": "code",
   "execution_count": 67,
   "metadata": {},
   "outputs": [
    {
     "data": {
      "text/plain": [
       "0.8289777943559292"
      ]
     },
     "execution_count": 67,
     "metadata": {},
     "output_type": "execute_result"
    }
   ],
   "source": [
    "y_pred = crf.predict(X_test)\n",
    "metrics.flat_f1_score(Y_test, y_pred,\n",
    "                      average='weighted', \n",
    "                      labels=labels)"
   ]
  },
  {
   "cell_type": "markdown",
   "metadata": {},
   "source": [
    "### Conclusion\n",
    "\n",
    "Basically the score with the CRF overpass all the existing algorithms for classification from sklearn."
   ]
  },
  {
   "cell_type": "code",
   "execution_count": 74,
   "metadata": {},
   "outputs": [
    {
     "data": {
      "text/plain": [
       "[{'bias': 1.0,\n",
       "  'word.lower()': 'movies',\n",
       "  'word[-3:]': 'ies',\n",
       "  'word[-2:]': 'es',\n",
       "  'word.isupper()': False,\n",
       "  'word.istitle()': True,\n",
       "  'word.isdigit()': False,\n",
       "  'postag': 'NNS',\n",
       "  'postag[:2]': 'NN',\n",
       "  'BOS': True,\n",
       "  '+1:word.lower()': '',\n",
       "  '+1:word.istitle()': False,\n",
       "  '+1:word.isupper()': False,\n",
       "  '+1:postag': 'with',\n",
       "  '+1:postag[:2]': 'wi'},\n",
       " {'bias': 1.0,\n",
       "  'word.lower()': 'with',\n",
       "  'word[-3:]': 'ith',\n",
       "  'word[-2:]': 'th',\n",
       "  'word.isupper()': False,\n",
       "  'word.istitle()': False,\n",
       "  'word.isdigit()': False,\n",
       "  'postag': 'IN',\n",
       "  'postag[:2]': 'IN',\n",
       "  '-1:word.lower()': '',\n",
       "  '-1:word.istitle()': False,\n",
       "  '-1:word.isupper()': False,\n",
       "  '-1:postag': 'Movies',\n",
       "  '-1:postag[:2]': 'Mo',\n",
       "  '+1:word.lower()': '',\n",
       "  '+1:word.istitle()': False,\n",
       "  '+1:word.isupper()': False,\n",
       "  '+1:postag': 'Bruce',\n",
       "  '+1:postag[:2]': 'Br'},\n",
       " {'bias': 1.0,\n",
       "  'word.lower()': 'bruce',\n",
       "  'word[-3:]': 'uce',\n",
       "  'word[-2:]': 'ce',\n",
       "  'word.isupper()': False,\n",
       "  'word.istitle()': True,\n",
       "  'word.isdigit()': False,\n",
       "  'postag': 'NNP',\n",
       "  'postag[:2]': 'NN',\n",
       "  '-1:word.lower()': '',\n",
       "  '-1:word.istitle()': False,\n",
       "  '-1:word.isupper()': False,\n",
       "  '-1:postag': 'with',\n",
       "  '-1:postag[:2]': 'wi',\n",
       "  '+1:word.lower()': '',\n",
       "  '+1:word.istitle()': False,\n",
       "  '+1:word.isupper()': False,\n",
       "  '+1:postag': 'Willis',\n",
       "  '+1:postag[:2]': 'Wi'},\n",
       " {'bias': 1.0,\n",
       "  'word.lower()': 'willis',\n",
       "  'word[-3:]': 'lis',\n",
       "  'word[-2:]': 'is',\n",
       "  'word.isupper()': False,\n",
       "  'word.istitle()': True,\n",
       "  'word.isdigit()': False,\n",
       "  'postag': 'NNP',\n",
       "  'postag[:2]': 'NN',\n",
       "  '-1:word.lower()': '',\n",
       "  '-1:word.istitle()': False,\n",
       "  '-1:word.isupper()': False,\n",
       "  '-1:postag': 'Bruce',\n",
       "  '-1:postag[:2]': 'Br',\n",
       "  'EOS': True}]"
      ]
     },
     "execution_count": 74,
     "metadata": {},
     "output_type": "execute_result"
    }
   ],
   "source": [
    "# Test for single sentence where don't know the labels or the pos tags\n",
    "sample_sentence = 'Movies with Bruce Willis'\n",
    "sample_sentence = nltk.pos_tag(nltk.word_tokenize(sample_sentence))\n",
    "sample_sentence = list(map(lambda x: ('', x[0], '', x[1]), sample_sentence))\n",
    "sample_sentence\n",
    "\n",
    "sample_sentence_features = sent2features(sample_sentence)\n",
    "sample_sentence_features"
   ]
  },
  {
   "cell_type": "code",
   "execution_count": 75,
   "metadata": {},
   "outputs": [],
   "source": [
    "predicted_labels = crf.predict_single(sample_sentence_features)"
   ]
  },
  {
   "cell_type": "code",
   "execution_count": 76,
   "metadata": {},
   "outputs": [
    {
     "data": {
      "text/plain": [
       "['O', 'O', 'B-Actor', 'I-Actor']"
      ]
     },
     "execution_count": 76,
     "metadata": {},
     "output_type": "execute_result"
    }
   ],
   "source": [
    "predicted_labels"
   ]
  }
 ],
 "metadata": {
  "kernelspec": {
   "display_name": "playground",
   "language": "python",
   "name": "python3"
  },
  "language_info": {
   "codemirror_mode": {
    "name": "ipython",
    "version": 3
   },
   "file_extension": ".py",
   "mimetype": "text/x-python",
   "name": "python",
   "nbconvert_exporter": "python",
   "pygments_lexer": "ipython3",
   "version": "3.10.12"
  },
  "orig_nbformat": 4
 },
 "nbformat": 4,
 "nbformat_minor": 2
}
